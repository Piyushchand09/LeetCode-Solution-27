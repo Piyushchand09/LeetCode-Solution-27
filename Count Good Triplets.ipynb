{
 "cells": [
  {
   "cell_type": "code",
   "execution_count": null,
   "id": "2976c185",
   "metadata": {
    "vscode": {
     "languageId": "plaintext"
    }
   },
   "outputs": [],
   "source": [
    "# Count Good Triplets\n",
    "class Solution:\n",
    "    def countGoodTriplets(self, arr: List[int], a: int, b: int, c: int) -> int:\n",
    "    \n",
    "        good_triplets = 0\n",
    "        length = len(arr)\n",
    "\n",
    "        for i in range(length):  \n",
    "            for j in range(i + 1, length):  \n",
    "                if abs(arr[i] - arr[j]) <= a: \n",
    "                    for k in range(j + 1, length):  \n",
    "                        if abs(arr[j] - arr[k]) <= b and abs(arr[i] - arr[k]) <= c:\n",
    "                            good_triplets += 1\n",
    "                           \n",
    "        \n",
    "        return good_triplets\n",
    "        "
   ]
  }
 ],
 "metadata": {
  "kernelspec": {
   "display_name": "Python 3 (ipykernel)",
   "language": "python",
   "name": "python3"
  },
  "language_info": {
   "codemirror_mode": {
    "name": "ipython",
    "version": 3
   },
   "file_extension": ".py",
   "mimetype": "text/x-python",
   "name": "python",
   "nbconvert_exporter": "python",
   "pygments_lexer": "ipython3",
   "version": "3.12.4"
  }
 },
 "nbformat": 4,
 "nbformat_minor": 5
}
